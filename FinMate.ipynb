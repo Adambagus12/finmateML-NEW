{
  "cells": [
    {
      "cell_type": "markdown",
      "id": "c90c460b",
      "metadata": {
        "id": "c90c460b"
      },
      "source": [
        "# 💰 FinMate - Smart Budgeting with 50:30:20 + ML Support"
      ]
    },
    {
      "cell_type": "markdown",
      "id": "841de663",
      "metadata": {
        "id": "841de663"
      },
      "source": [
        "\n",
        "Notebook ini menggabungkan pendekatan *rule-based budgeting* (50:30:20) dengan model *machine learning regression* berbasis TensorFlow untuk memberikan rekomendasi pengeluaran cerdas berdasarkan pendapatan dan kategori yang dimasukkan pengguna.\n",
        "\n",
        "**Input:**\n",
        "- Pendapatan bulanan pengguna\n",
        "- Daftar kategori pengeluaran (bebas)\n",
        "\n",
        "**Output:**\n",
        "- Rekomendasi alokasi per kategori (Rupiah)\n"
      ]
    },
    {
      "cell_type": "code",
      "execution_count": null,
      "id": "a738a441",
      "metadata": {
        "id": "a738a441"
      },
      "outputs": [],
      "source": [
        "\n",
        "import pandas as pd\n",
        "import numpy as np\n",
        "import tensorflow as tf\n",
        "import joblib\n",
        "from sklearn.model_selection import train_test_split\n",
        "from sklearn.preprocessing import StandardScaler\n",
        "from sklearn.preprocessing import LabelEncoder\n",
        "import matplotlib.pyplot as plt\n"
      ]
    },
    {
      "cell_type": "code",
      "source": [
        "from google.colab import files\n",
        "uploaded = files.upload()"
      ],
      "metadata": {
        "colab": {
          "base_uri": "https://localhost:8080/",
          "height": 73
        },
        "id": "0yfDHWGDgR3e",
        "outputId": "aa8a61cd-a697-454a-a042-e435cb275285"
      },
      "id": "0yfDHWGDgR3e",
      "execution_count": null,
      "outputs": [
        {
          "output_type": "display_data",
          "data": {
            "text/plain": [
              "<IPython.core.display.HTML object>"
            ],
            "text/html": [
              "\n",
              "     <input type=\"file\" id=\"files-eb3fd248-35af-421a-83b5-75a04d191861\" name=\"files[]\" multiple disabled\n",
              "        style=\"border:none\" />\n",
              "     <output id=\"result-eb3fd248-35af-421a-83b5-75a04d191861\">\n",
              "      Upload widget is only available when the cell has been executed in the\n",
              "      current browser session. Please rerun this cell to enable.\n",
              "      </output>\n",
              "      <script>// Copyright 2017 Google LLC\n",
              "//\n",
              "// Licensed under the Apache License, Version 2.0 (the \"License\");\n",
              "// you may not use this file except in compliance with the License.\n",
              "// You may obtain a copy of the License at\n",
              "//\n",
              "//      http://www.apache.org/licenses/LICENSE-2.0\n",
              "//\n",
              "// Unless required by applicable law or agreed to in writing, software\n",
              "// distributed under the License is distributed on an \"AS IS\" BASIS,\n",
              "// WITHOUT WARRANTIES OR CONDITIONS OF ANY KIND, either express or implied.\n",
              "// See the License for the specific language governing permissions and\n",
              "// limitations under the License.\n",
              "\n",
              "/**\n",
              " * @fileoverview Helpers for google.colab Python module.\n",
              " */\n",
              "(function(scope) {\n",
              "function span(text, styleAttributes = {}) {\n",
              "  const element = document.createElement('span');\n",
              "  element.textContent = text;\n",
              "  for (const key of Object.keys(styleAttributes)) {\n",
              "    element.style[key] = styleAttributes[key];\n",
              "  }\n",
              "  return element;\n",
              "}\n",
              "\n",
              "// Max number of bytes which will be uploaded at a time.\n",
              "const MAX_PAYLOAD_SIZE = 100 * 1024;\n",
              "\n",
              "function _uploadFiles(inputId, outputId) {\n",
              "  const steps = uploadFilesStep(inputId, outputId);\n",
              "  const outputElement = document.getElementById(outputId);\n",
              "  // Cache steps on the outputElement to make it available for the next call\n",
              "  // to uploadFilesContinue from Python.\n",
              "  outputElement.steps = steps;\n",
              "\n",
              "  return _uploadFilesContinue(outputId);\n",
              "}\n",
              "\n",
              "// This is roughly an async generator (not supported in the browser yet),\n",
              "// where there are multiple asynchronous steps and the Python side is going\n",
              "// to poll for completion of each step.\n",
              "// This uses a Promise to block the python side on completion of each step,\n",
              "// then passes the result of the previous step as the input to the next step.\n",
              "function _uploadFilesContinue(outputId) {\n",
              "  const outputElement = document.getElementById(outputId);\n",
              "  const steps = outputElement.steps;\n",
              "\n",
              "  const next = steps.next(outputElement.lastPromiseValue);\n",
              "  return Promise.resolve(next.value.promise).then((value) => {\n",
              "    // Cache the last promise value to make it available to the next\n",
              "    // step of the generator.\n",
              "    outputElement.lastPromiseValue = value;\n",
              "    return next.value.response;\n",
              "  });\n",
              "}\n",
              "\n",
              "/**\n",
              " * Generator function which is called between each async step of the upload\n",
              " * process.\n",
              " * @param {string} inputId Element ID of the input file picker element.\n",
              " * @param {string} outputId Element ID of the output display.\n",
              " * @return {!Iterable<!Object>} Iterable of next steps.\n",
              " */\n",
              "function* uploadFilesStep(inputId, outputId) {\n",
              "  const inputElement = document.getElementById(inputId);\n",
              "  inputElement.disabled = false;\n",
              "\n",
              "  const outputElement = document.getElementById(outputId);\n",
              "  outputElement.innerHTML = '';\n",
              "\n",
              "  const pickedPromise = new Promise((resolve) => {\n",
              "    inputElement.addEventListener('change', (e) => {\n",
              "      resolve(e.target.files);\n",
              "    });\n",
              "  });\n",
              "\n",
              "  const cancel = document.createElement('button');\n",
              "  inputElement.parentElement.appendChild(cancel);\n",
              "  cancel.textContent = 'Cancel upload';\n",
              "  const cancelPromise = new Promise((resolve) => {\n",
              "    cancel.onclick = () => {\n",
              "      resolve(null);\n",
              "    };\n",
              "  });\n",
              "\n",
              "  // Wait for the user to pick the files.\n",
              "  const files = yield {\n",
              "    promise: Promise.race([pickedPromise, cancelPromise]),\n",
              "    response: {\n",
              "      action: 'starting',\n",
              "    }\n",
              "  };\n",
              "\n",
              "  cancel.remove();\n",
              "\n",
              "  // Disable the input element since further picks are not allowed.\n",
              "  inputElement.disabled = true;\n",
              "\n",
              "  if (!files) {\n",
              "    return {\n",
              "      response: {\n",
              "        action: 'complete',\n",
              "      }\n",
              "    };\n",
              "  }\n",
              "\n",
              "  for (const file of files) {\n",
              "    const li = document.createElement('li');\n",
              "    li.append(span(file.name, {fontWeight: 'bold'}));\n",
              "    li.append(span(\n",
              "        `(${file.type || 'n/a'}) - ${file.size} bytes, ` +\n",
              "        `last modified: ${\n",
              "            file.lastModifiedDate ? file.lastModifiedDate.toLocaleDateString() :\n",
              "                                    'n/a'} - `));\n",
              "    const percent = span('0% done');\n",
              "    li.appendChild(percent);\n",
              "\n",
              "    outputElement.appendChild(li);\n",
              "\n",
              "    const fileDataPromise = new Promise((resolve) => {\n",
              "      const reader = new FileReader();\n",
              "      reader.onload = (e) => {\n",
              "        resolve(e.target.result);\n",
              "      };\n",
              "      reader.readAsArrayBuffer(file);\n",
              "    });\n",
              "    // Wait for the data to be ready.\n",
              "    let fileData = yield {\n",
              "      promise: fileDataPromise,\n",
              "      response: {\n",
              "        action: 'continue',\n",
              "      }\n",
              "    };\n",
              "\n",
              "    // Use a chunked sending to avoid message size limits. See b/62115660.\n",
              "    let position = 0;\n",
              "    do {\n",
              "      const length = Math.min(fileData.byteLength - position, MAX_PAYLOAD_SIZE);\n",
              "      const chunk = new Uint8Array(fileData, position, length);\n",
              "      position += length;\n",
              "\n",
              "      const base64 = btoa(String.fromCharCode.apply(null, chunk));\n",
              "      yield {\n",
              "        response: {\n",
              "          action: 'append',\n",
              "          file: file.name,\n",
              "          data: base64,\n",
              "        },\n",
              "      };\n",
              "\n",
              "      let percentDone = fileData.byteLength === 0 ?\n",
              "          100 :\n",
              "          Math.round((position / fileData.byteLength) * 100);\n",
              "      percent.textContent = `${percentDone}% done`;\n",
              "\n",
              "    } while (position < fileData.byteLength);\n",
              "  }\n",
              "\n",
              "  // All done.\n",
              "  yield {\n",
              "    response: {\n",
              "      action: 'complete',\n",
              "    }\n",
              "  };\n",
              "}\n",
              "\n",
              "scope.google = scope.google || {};\n",
              "scope.google.colab = scope.google.colab || {};\n",
              "scope.google.colab._files = {\n",
              "  _uploadFiles,\n",
              "  _uploadFilesContinue,\n",
              "};\n",
              "})(self);\n",
              "</script> "
            ]
          },
          "metadata": {}
        },
        {
          "output_type": "stream",
          "name": "stdout",
          "text": [
            "Saving student_spending.csv to student_spending.csv\n"
          ]
        }
      ]
    },
    {
      "cell_type": "code",
      "execution_count": null,
      "id": "44774f34",
      "metadata": {
        "id": "44774f34"
      },
      "outputs": [],
      "source": [
        "\n",
        "df = pd.read_csv(\"student_spending.csv\")\n",
        "df = df.drop(columns=[\"Unnamed: 0\"])\n",
        "\n",
        "expense_cols = ['tuition', 'housing', 'food', 'transportation', 'books_supplies',\n",
        "                'entertainment', 'personal_care', 'technology', 'health_wellness', 'miscellaneous']\n",
        "df[\"total_spending\"] = df[expense_cols].sum(axis=1)\n"
      ]
    },
    {
      "cell_type": "code",
      "execution_count": null,
      "id": "207726e6",
      "metadata": {
        "id": "207726e6"
      },
      "outputs": [],
      "source": [
        "\n",
        "cat_cols = ['gender', 'year_in_school', 'major', 'preferred_payment_method']\n",
        "df = pd.get_dummies(df, columns=cat_cols)\n",
        "\n",
        "# Features\n",
        "X = df.drop(columns=expense_cols + ['total_spending'])\n",
        "scaler = StandardScaler()\n",
        "X_scaled = scaler.fit_transform(X)\n",
        "\n",
        "# Output: total spending per kategori (multioutput)\n",
        "y = df[expense_cols]\n",
        "\n",
        "# Split\n",
        "X_train, X_test, y_train, y_test = train_test_split(X_scaled, y, test_size=0.2, random_state=42)\n"
      ]
    },
    {
      "cell_type": "code",
      "execution_count": null,
      "id": "5b029828",
      "metadata": {
        "colab": {
          "base_uri": "https://localhost:8080/"
        },
        "id": "5b029828",
        "outputId": "843a6ae9-e122-4392-f9c9-3ff57301f03c"
      },
      "outputs": [
        {
          "output_type": "stream",
          "name": "stderr",
          "text": [
            "/usr/local/lib/python3.11/dist-packages/keras/src/layers/core/dense.py:87: UserWarning: Do not pass an `input_shape`/`input_dim` argument to a layer. When using Sequential models, prefer using an `Input(shape)` object as the first layer in the model instead.\n",
            "  super().__init__(activity_regularizer=activity_regularizer, **kwargs)\n",
            "WARNING:absl:You are saving your model as an HDF5 file via `model.save()` or `keras.saving.save_model(model)`. This file format is considered legacy. We recommend using instead the native Keras format, e.g. `model.save('my_model.keras')` or `keras.saving.save_model(model, 'my_model.keras')`. \n"
          ]
        }
      ],
      "source": [
        "\n",
        "model = tf.keras.Sequential([\n",
        "    tf.keras.layers.Dense(128, activation='relu', input_shape=(X_train.shape[1],)),\n",
        "    tf.keras.layers.Dense(64, activation='relu'),\n",
        "    tf.keras.layers.Dense(y_train.shape[1])  # regresi untuk banyak output\n",
        "])\n",
        "\n",
        "model.compile(optimizer='adam', loss='mse', metrics=['mae'])\n",
        "history = model.fit(X_train, y_train, epochs=50, batch_size=16, validation_split=0.2, verbose=0)\n",
        "\n",
        "model.save(\"spending_regression_model.h5\")\n"
      ]
    },
    {
      "cell_type": "code",
      "execution_count": null,
      "id": "24c97a2e",
      "metadata": {
        "colab": {
          "base_uri": "https://localhost:8080/"
        },
        "id": "24c97a2e",
        "outputId": "237d73a5-8a59-4e49-8d0b-a5becd1e5c4b"
      },
      "outputs": [
        {
          "output_type": "stream",
          "name": "stderr",
          "text": [
            "WARNING:absl:You are saving your model as an HDF5 file via `model.save()` or `keras.saving.save_model(model)`. This file format is considered legacy. We recommend using instead the native Keras format, e.g. `model.save('my_model.keras')` or `keras.saving.save_model(model, 'my_model.keras')`. \n"
          ]
        }
      ],
      "source": [
        "\n",
        "# Menyimpan model TensorFlow setelah training\n",
        "model.save(\"finmate_model.h5\")\n",
        "\n",
        "# Untuk memuat model di waktu lain:\n",
        "# from tensorflow.keras.models import load_model\n",
        "# model = load_model(\"finmate_model.h5\")\n"
      ]
    },
    {
      "cell_type": "code",
      "execution_count": null,
      "id": "0511f7a3",
      "metadata": {
        "id": "0511f7a3"
      },
      "outputs": [],
      "source": [
        "\n",
        "def recommend_budget(income, categories):\n",
        "    # Proporsi historis per kategori\n",
        "    proportions = {\n",
        "        'food': 0.3459,\n",
        "        'transportation': 0.1707,\n",
        "        'books_supplies': 0.2393,\n",
        "        'technology': 0.2441,\n",
        "        'entertainment': 0.5829,\n",
        "        'personal_care': 0.4171,\n",
        "        'health_wellness': 0.5121,\n",
        "        'miscellaneous': 0.4879\n",
        "    }\n",
        "\n",
        "    # Grup kategori\n",
        "    group_map = {\n",
        "        'food': 'needs',\n",
        "        'transportation': 'needs',\n",
        "        'books_supplies': 'needs',\n",
        "        'technology': 'needs',\n",
        "        'entertainment': 'wants',\n",
        "        'personal_care': 'wants',\n",
        "        'health_wellness': 'savings',\n",
        "        'miscellaneous': 'savings'\n",
        "    }\n",
        "\n",
        "    group_ratios = {\n",
        "        'needs': 0.5,\n",
        "        'wants': 0.3,\n",
        "        'savings': 0.2\n",
        "    }\n",
        "\n",
        "    # Pisahkan kategori yang dipilih per grup\n",
        "    selected_by_group = {'needs': [], 'wants': [], 'savings': []}\n",
        "    for cat in categories:\n",
        "        if cat in group_map and cat in proportions:\n",
        "            selected_by_group[group_map[cat]].append(cat)\n",
        "\n",
        "    # Hitung total proporsi untuk normalisasi dalam masing-masing grup\n",
        "    normalized_props = {}\n",
        "    for group, cat_list in selected_by_group.items():\n",
        "        total_prop = sum([proportions[cat] for cat in cat_list])\n",
        "        if total_prop > 0:\n",
        "            for cat in cat_list:\n",
        "                normalized_props[cat] = proportions[cat] / total_prop\n",
        "\n",
        "    # Hitung alokasi\n",
        "    budget_allocation = {}\n",
        "    active_groups = [g for g in selected_by_group if selected_by_group[g]]\n",
        "    total_ratio = sum([group_ratios[g] for g in active_groups])\n",
        "\n",
        "    for cat in normalized_props:\n",
        "        group = group_map[cat]\n",
        "        ratio = group_ratios[group] / total_ratio  # Normalisasi rasio antar grup yang tersedia\n",
        "        budget_allocation[cat] = round(income * ratio * normalized_props[cat], 2)\n",
        "\n",
        "    return budget_allocation\n"
      ]
    },
    {
      "cell_type": "code",
      "execution_count": null,
      "id": "2d723d91",
      "metadata": {
        "colab": {
          "base_uri": "https://localhost:8080/"
        },
        "id": "2d723d91",
        "outputId": "8ba5ecc5-851e-4b8d-94d7-01a867521e45"
      },
      "outputs": [
        {
          "output_type": "execute_result",
          "data": {
            "text/plain": [
              "{'food': 518850.0,\n",
              " 'transportation': 256050.0,\n",
              " 'technology': 366150.0,\n",
              " 'books_supplies': 358950.0,\n",
              " 'personal_care': 375390.0,\n",
              " 'entertainment': 524610.0,\n",
              " 'health_wellness': 307260.0,\n",
              " 'miscellaneous': 292740.0}"
            ]
          },
          "metadata": {},
          "execution_count": 14
        }
      ],
      "source": [
        "\n",
        "# Contoh input dari user (bisa diganti)\n",
        "user_income = 3000000\n",
        "user_categories = ['food', 'transportation', 'technology', 'books_supplies', 'personal_care', 'entertainment', 'health_wellness', 'miscellaneous']\n",
        "\n",
        "recommend_budget(user_income, user_categories)\n"
      ]
    },
    {
      "cell_type": "code",
      "source": [
        "joblib.dump(scaler, \"scaler.pkl\")"
      ],
      "metadata": {
        "colab": {
          "base_uri": "https://localhost:8080/"
        },
        "id": "j3IJxrxfxYoV",
        "outputId": "52d251cf-cc77-49a8-b1c6-06e742298f37"
      },
      "id": "j3IJxrxfxYoV",
      "execution_count": null,
      "outputs": [
        {
          "output_type": "execute_result",
          "data": {
            "text/plain": [
              "['scaler.pkl']"
            ]
          },
          "metadata": {},
          "execution_count": 13
        }
      ]
    }
  ],
  "metadata": {
    "colab": {
      "provenance": []
    },
    "language_info": {
      "name": "python"
    },
    "kernelspec": {
      "name": "python3",
      "display_name": "Python 3"
    }
  },
  "nbformat": 4,
  "nbformat_minor": 5
}